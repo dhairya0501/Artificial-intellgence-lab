{
  "nbformat": 4,
  "nbformat_minor": 0,
  "metadata": {
    "colab": {
      "name": "N-Queen problem using DFS.ipynb",
      "provenance": []
    },
    "kernelspec": {
      "name": "python3",
      "display_name": "Python 3"
    },
    "language_info": {
      "name": "python"
    }
  },
  "cells": [
    {
      "cell_type": "code",
      "execution_count": 8,
      "metadata": {
        "colab": {
          "base_uri": "https://localhost:8080/"
        },
        "id": "_e_lN7yQ-AWF",
        "outputId": "86a59abd-fd45-4361-f15f-daaa66be26c0"
      },
      "outputs": [
        {
          "output_type": "stream",
          "name": "stdout",
          "text": [
            "Enter the number of queens to fit: 4\n",
            " --- --- --- ---\n",
            "|   |   | Q |   |\n",
            " --- --- --- ---\n",
            "| Q |   |   |   |\n",
            " --- --- --- ---\n",
            "|   |   |   | Q |\n",
            " --- --- --- ---\n",
            "|   | Q |   |   |\n",
            " --- --- --- ---\n",
            " --- --- --- ---\n",
            "|   | Q |   |   |\n",
            " --- --- --- ---\n",
            "|   |   |   | Q |\n",
            " --- --- --- ---\n",
            "| Q |   |   |   |\n",
            " --- --- --- ---\n",
            "|   |   | Q |   |\n",
            " --- --- --- ---\n"
          ]
        }
      ],
      "source": [
        "class Board:\n",
        "\n",
        "    def __init__(self, N):\n",
        "        self.N = N\n",
        "\n",
        "    def dfs(self):\n",
        "        if self.N < 1:\n",
        "            return []\n",
        "        solutions = []\n",
        "        stack = [[]]\n",
        "        while stack:\n",
        "            solution = stack.pop()\n",
        "            if self.attack(solution):\n",
        "                continue\n",
        "            row = len(solution)\n",
        "            if row == self.N:\n",
        "                solutions.append(solution)\n",
        "                continue\n",
        "            for col in range(self.N):\n",
        "                queen = (row, col)\n",
        "                queens = solution.copy()\n",
        "                queens.append(queen)\n",
        "                stack.append(queens)\n",
        "        return solutions\n",
        "\n",
        "\n",
        "    def attack(self, queen):\n",
        "        for i in range(1, len(queen)):\n",
        "            for j in range(0, i):\n",
        "                a, b = queen[i]\n",
        "                c, d = queen[j]\n",
        "                if a == c or b == d or abs(a - c) == abs(b - d):\n",
        "                    return True\n",
        "        return False\n",
        "\n",
        "    def print(self, queens):\n",
        "        for i in range(self.N):\n",
        "            print(' ---' * self.N)\n",
        "            for j in range(self.N):\n",
        "                p = 'Q' if (i, j) in queens else ' '\n",
        "                print('| %s ' % p, end='')\n",
        "            print('|')\n",
        "        print(' ---' * self.N)\n",
        "\n",
        "N = int(input('Enter the number of queens to fit: '))\n",
        "if (N<3 and N!=1):\n",
        "  print('No solutions are possible')\n",
        "if(N==1):\n",
        "  print('| Q |')\n",
        "else:\n",
        "  n_queens = Board(N)\n",
        "  dfs = n_queens.dfs()\n",
        "  for i, solution in enumerate(dfs):\n",
        "    n_queens.print(solution)\n"
      ]
    },
    {
      "cell_type": "code",
      "source": [
        ""
      ],
      "metadata": {
        "id": "dvR5m6e8JgQ1"
      },
      "execution_count": null,
      "outputs": []
    }
  ]
}